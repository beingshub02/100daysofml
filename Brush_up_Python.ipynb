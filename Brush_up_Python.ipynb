{
  "nbformat": 4,
  "nbformat_minor": 0,
  "metadata": {
    "kernelspec": {
      "display_name": "Python 3",
      "language": "python",
      "name": "python3"
    },
    "language_info": {
      "codemirror_mode": {
        "name": "ipython",
        "version": 3
      },
      "file_extension": ".py",
      "mimetype": "text/x-python",
      "name": "python",
      "nbconvert_exporter": "python",
      "pygments_lexer": "ipython3",
      "version": "3.6.4"
    },
    "colab": {
      "provenance": [],
      "include_colab_link": true
    }
  },
  "cells": [
    {
      "cell_type": "markdown",
      "metadata": {
        "id": "view-in-github",
        "colab_type": "text"
      },
      "source": [
        "<a href=\"https://colab.research.google.com/github/beingshub02/100daysofml/blob/main/Brush_up_Python.ipynb\" target=\"_parent\"><img src=\"https://colab.research.google.com/assets/colab-badge.svg\" alt=\"Open In Colab\"/></a>"
      ]
    },
    {
      "cell_type": "markdown",
      "metadata": {
        "id": "80sWobpYVIyW"
      },
      "source": [
        "## 1. Basics"
      ]
    },
    {
      "cell_type": "code",
      "metadata": {
        "id": "AOxNf2o1VIyY",
        "outputId": "9235f74a-672f-441c-8ff7-845b7c663a88",
        "colab": {
          "base_uri": "https://localhost:8080/",
          "height": 34
        }
      },
      "source": [
        "# printing any value\n",
        "print(\"Hello\")"
      ],
      "execution_count": null,
      "outputs": [
        {
          "output_type": "stream",
          "text": [
            "Hello\n"
          ],
          "name": "stdout"
        }
      ]
    },
    {
      "cell_type": "markdown",
      "metadata": {
        "id": "4aWCtzm8VIyg"
      },
      "source": [
        "### Variable\n",
        "A variable is a reserved memory location to store values. A varaiable name must begin alphabet/underscore followed by alphabets/numbers/underscores"
      ]
    },
    {
      "cell_type": "code",
      "metadata": {
        "id": "CnKmywGpVIyi",
        "outputId": "2daf248c-d260-4e2b-b61a-f85d5a7e605a",
        "colab": {
          "base_uri": "https://localhost:8080/",
          "height": 84
        }
      },
      "source": [
        "# python data types\n",
        "number = 3\n",
        "float_number = 99.99\n",
        "character = 'a'\n",
        "string = \"Hello, World!\"\n",
        "\n",
        "print(number, type(number))\n",
        "print(float_number, type(float_number))\n",
        "print(character, type(character))\n",
        "print(string, type(string))"
      ],
      "execution_count": null,
      "outputs": [
        {
          "output_type": "stream",
          "text": [
            "3 <class 'int'>\n",
            "99.99 <class 'float'>\n",
            "a <class 'str'>\n",
            "Hello, World! <class 'str'>\n"
          ],
          "name": "stdout"
        }
      ]
    },
    {
      "cell_type": "code",
      "metadata": {
        "id": "ktVaw6dmVIym",
        "outputId": "d91afc2e-855a-4599-d3e8-a5ba2894c18a"
      },
      "source": [
        "# writing basic operations\n",
        "a = 6\n",
        "b = 2\n",
        "print(a+b)\n",
        "print(a-b)\n",
        "print(a*b)\n",
        "print(a/b)\n",
        "print(a%b)"
      ],
      "execution_count": null,
      "outputs": [
        {
          "output_type": "stream",
          "text": [
            "8\n",
            "4\n",
            "12\n",
            "3.0\n",
            "0\n"
          ],
          "name": "stdout"
        }
      ]
    },
    {
      "cell_type": "code",
      "metadata": {
        "id": "JeC_1X-zVIyp",
        "outputId": "4eebe111-70fa-4e5a-d9eb-fe4a556791a6",
        "colab": {
          "base_uri": "https://localhost:8080/",
          "height": 50
        }
      },
      "source": [
        "# getting input \n",
        "number = input(\"Enter a number: \")\n",
        "\n",
        "print(number, type(number))"
      ],
      "execution_count": null,
      "outputs": [
        {
          "output_type": "stream",
          "text": [
            "Enter a number: 5\n",
            "5 <class 'str'>\n"
          ],
          "name": "stdout"
        }
      ]
    },
    {
      "cell_type": "code",
      "metadata": {
        "id": "RtiOflGwVIys",
        "outputId": "4e9b354c-e2f4-4072-c688-cb6136642fef",
        "colab": {
          "base_uri": "https://localhost:8080/",
          "height": 67
        }
      },
      "source": [
        "# casting string to integer\n",
        "number = int(input(\"Enter a number: \"))\n",
        "\n",
        "print(number, type(number))\n",
        "print(\"Square of the number:\", number**2)"
      ],
      "execution_count": null,
      "outputs": [
        {
          "output_type": "stream",
          "text": [
            "Enter a number: 8\n",
            "8 <class 'int'>\n",
            "Square of the number: 64\n"
          ],
          "name": "stdout"
        }
      ]
    },
    {
      "cell_type": "markdown",
      "metadata": {
        "id": "wa4_3-rHVIyu"
      },
      "source": [
        "## 3. Python Built-in Data Structures"
      ]
    },
    {
      "cell_type": "markdown",
      "metadata": {
        "id": "PtyxeMx8VIyv"
      },
      "source": [
        "### 3.1. List\n",
        "* List is an ordered collection of data. \n",
        "* It is mutable and allow duplicates. \n",
        "* It list is created by enclosing the data items with in square brackets delimited by \",\""
      ]
    },
    {
      "cell_type": "code",
      "metadata": {
        "id": "39QHWQ6CVIyv",
        "outputId": "c2760109-296b-4a4a-e125-a4c1463021f6",
        "colab": {
          "base_uri": "https://localhost:8080/",
          "height": 34
        }
      },
      "source": [
        "# Creating a list\n",
        "marks = [35, 68, 96, 80, 90]\n",
        "\n",
        "print(marks)"
      ],
      "execution_count": null,
      "outputs": [
        {
          "output_type": "stream",
          "text": [
            "[35, 68, 96, 80, 90]\n"
          ],
          "name": "stdout"
        }
      ]
    },
    {
      "cell_type": "code",
      "metadata": {
        "id": "kF5owoZDVIyy",
        "outputId": "07d4d9de-1f80-449b-9891-475d6fef6980",
        "colab": {
          "base_uri": "https://localhost:8080/",
          "height": 67
        }
      },
      "source": [
        "# Indexing list elements\n",
        "print(\"marks[0] : %d\" % marks[0])\n",
        "print(\"marks[len(marks)-1] : %d\" % marks[len(marks)-1])\n",
        "print(\"marks[-1] : %d\" % marks[-1])"
      ],
      "execution_count": null,
      "outputs": [
        {
          "output_type": "stream",
          "text": [
            "marks[0] : 35\n",
            "marks[len(marks)-1] : 90\n",
            "marks[-1] : 90\n"
          ],
          "name": "stdout"
        }
      ]
    },
    {
      "cell_type": "code",
      "metadata": {
        "id": "q8-dbgegVIy0",
        "outputId": "a42683a6-2bc5-4a9d-9119-61ab2426d3a0",
        "colab": {
          "base_uri": "https://localhost:8080/",
          "height": 34
        }
      },
      "source": [
        "# Modifying list elemets\n",
        "marks[0] = 38\n",
        "\n",
        "print(marks)"
      ],
      "execution_count": null,
      "outputs": [
        {
          "output_type": "stream",
          "text": [
            "[38, 68, 96, 80, 90]\n"
          ],
          "name": "stdout"
        }
      ]
    },
    {
      "cell_type": "code",
      "metadata": {
        "id": "J-ucvP8KVIy3",
        "outputId": "8b0951f2-36e3-4a19-dbbe-14c8d10b449c",
        "colab": {
          "base_uri": "https://localhost:8080/",
          "height": 101
        }
      },
      "source": [
        "# Slicing the list\n",
        "# Syntax: list[start:end(exclusive)]\n",
        "print(marks[0:len(marks)])\n",
        "print(marks[:len(marks)])\n",
        "print(marks[0:])\n",
        "print(marks[:])\n",
        "\n",
        "print(marks[2:4])"
      ],
      "execution_count": null,
      "outputs": [
        {
          "output_type": "stream",
          "text": [
            "[38, 68, 96, 80, 90]\n",
            "[38, 68, 96, 80, 90]\n",
            "[38, 68, 96, 80, 90]\n",
            "[38, 68, 96, 80, 90]\n",
            "[96, 80]\n"
          ],
          "name": "stdout"
        }
      ]
    },
    {
      "cell_type": "code",
      "metadata": {
        "id": "mIv2jeKDVIy5",
        "outputId": "04486d78-d413-42ec-b997-fe04ff2a44d1",
        "colab": {
          "base_uri": "https://localhost:8080/",
          "height": 67
        }
      },
      "source": [
        "# Adding and removing list elements\n",
        "marks.append(89)\n",
        "print(marks)\n",
        "\n",
        "marks.insert(1, 70)\n",
        "print(marks)\n",
        "\n",
        "marks.remove(70)\n",
        "print(marks)"
      ],
      "execution_count": null,
      "outputs": [
        {
          "output_type": "stream",
          "text": [
            "[38, 68, 96, 80, 90, 89]\n",
            "[38, 70, 68, 96, 80, 90, 89]\n",
            "[38, 68, 96, 80, 90, 89]\n"
          ],
          "name": "stdout"
        }
      ]
    },
    {
      "cell_type": "code",
      "metadata": {
        "id": "3LDdP9kLVIy-",
        "outputId": "ce5a47f4-f853-4d57-bff7-ebc21bc6664e",
        "colab": {
          "base_uri": "https://localhost:8080/",
          "height": 50
        }
      },
      "source": [
        "# sorting list elements\n",
        "print(sorted(marks))\n",
        "print(sorted(marks, reverse=True))"
      ],
      "execution_count": null,
      "outputs": [
        {
          "output_type": "stream",
          "text": [
            "[38, 68, 80, 89, 90, 96]\n",
            "[96, 90, 89, 80, 68, 38]\n"
          ],
          "name": "stdout"
        }
      ]
    },
    {
      "cell_type": "code",
      "metadata": {
        "id": "guvFIUwJVIzA",
        "outputId": "5317c549-1031-482c-b69c-b0ef0942e8b8",
        "colab": {
          "base_uri": "https://localhost:8080/",
          "height": 34
        }
      },
      "source": [
        "# List Comprehesion\n",
        "pass_mark = 50\n",
        "marks_new = [mark for mark in marks if mark > pass_mark]\n",
        "print(marks_new)"
      ],
      "execution_count": null,
      "outputs": [
        {
          "output_type": "stream",
          "text": [
            "[68, 96, 80, 90, 89]\n"
          ],
          "name": "stdout"
        }
      ]
    },
    {
      "cell_type": "markdown",
      "metadata": {
        "id": "Kkph_UjnVIzD"
      },
      "source": [
        "### 3.2. Tuple\n",
        "* Tuple is an ordered collection of data. \n",
        "* It is immutable and allow duplicates. \n",
        "* It list is created by enclosing the data items with in round brackets delimited by \",\""
      ]
    },
    {
      "cell_type": "code",
      "metadata": {
        "id": "ugWGmFMlVIzD",
        "outputId": "79489d3d-b929-451f-d302-f140bbe88cda"
      },
      "source": [
        "# Creating a tuple\n",
        "marks = (35, 68, 96, 80, 90)\n",
        "\n",
        "print(marks)"
      ],
      "execution_count": null,
      "outputs": [
        {
          "output_type": "stream",
          "text": [
            "(35, 68, 96, 80, 90)\n"
          ],
          "name": "stdout"
        }
      ]
    },
    {
      "cell_type": "code",
      "metadata": {
        "id": "TDhMLFR1VIzG",
        "outputId": "5d1512a2-2326-4f95-a921-8bf17e979916"
      },
      "source": [
        "# Indexing tuple elements\n",
        "print(\"marks[0] : %d\" % marks[0])\n",
        "print(\"marks[len(marks)-1] : %d\" % marks[len(marks)-1])\n",
        "print(\"marks[-1] : %d\" % marks[-1])"
      ],
      "execution_count": null,
      "outputs": [
        {
          "output_type": "stream",
          "text": [
            "marks[0] : 35\n",
            "marks[len(marks)-1] : 90\n",
            "marks[-1] : 90\n"
          ],
          "name": "stdout"
        }
      ]
    },
    {
      "cell_type": "code",
      "metadata": {
        "id": "QPeYURZHVIzI",
        "outputId": "0457cfc0-8a78-42a9-d0c4-a90a72993bc6"
      },
      "source": [
        "#  Note: We cannot modify the elemnts in a tuple\n",
        "\n",
        "#marks[0] = 38\n",
        "\n",
        "print(marks)"
      ],
      "execution_count": null,
      "outputs": [
        {
          "output_type": "stream",
          "text": [
            "(35, 68, 96, 80, 90)\n"
          ],
          "name": "stdout"
        }
      ]
    },
    {
      "cell_type": "code",
      "metadata": {
        "id": "ufzeCyVfVIzJ",
        "outputId": "9e1f2d07-b42e-4bab-ab8e-2b5be0063a5a"
      },
      "source": [
        "# Slicing the tuple\n",
        "# Syntax: tuple[start:end(exclusive)]\n",
        "print(marks[0:len(marks)])\n",
        "print(marks[:len(marks)])\n",
        "print(marks[0:])\n",
        "print(marks[:])\n",
        "\n",
        "print(marks[2:4])"
      ],
      "execution_count": null,
      "outputs": [
        {
          "output_type": "stream",
          "text": [
            "(35, 68, 96, 80, 90)\n",
            "(35, 68, 96, 80, 90)\n",
            "(35, 68, 96, 80, 90)\n",
            "(35, 68, 96, 80, 90)\n",
            "(96, 80)\n"
          ],
          "name": "stdout"
        }
      ]
    },
    {
      "cell_type": "code",
      "metadata": {
        "id": "2H53E6qMVIzL",
        "outputId": "648859ab-0aeb-4bde-985f-b1a9ce608f0c"
      },
      "source": [
        "# tuple Comprehesion\n",
        "pass_mark = 50\n",
        "marks_new = tuple((mark for mark in marks if mark > pass_mark))\n",
        "print(marks_new)"
      ],
      "execution_count": null,
      "outputs": [
        {
          "output_type": "stream",
          "text": [
            "(68, 96, 80, 90)\n"
          ],
          "name": "stdout"
        }
      ]
    },
    {
      "cell_type": "markdown",
      "metadata": {
        "id": "af8C7EuSVIzN"
      },
      "source": [
        "### 3.3. Set\n",
        "* Set is an unordered collection of data. \n",
        "* It is mutable and does not allow duplicates. \n",
        "* It is created by enclosing the data items with in curly brackets delimited by \",\""
      ]
    },
    {
      "cell_type": "code",
      "metadata": {
        "id": "OQxL3Gy3VIzO",
        "outputId": "df393cd5-29d0-4cb1-a5f0-62fd98a5c9b8"
      },
      "source": [
        "cities = {\"Madras\", \"Delhi\", \"Bombay\", \"Calcutta\", \"Madras\"}\n",
        "\n",
        "print(cities)"
      ],
      "execution_count": null,
      "outputs": [
        {
          "output_type": "stream",
          "text": [
            "{'Bombay', 'Delhi', 'Madras', 'Calcutta'}\n"
          ],
          "name": "stdout"
        }
      ]
    },
    {
      "cell_type": "code",
      "metadata": {
        "id": "4x8OtxiZVIzQ",
        "outputId": "a80bd0ab-8599-4e4d-cee2-68cc0b30ae1b"
      },
      "source": [
        "# Set Operations\n",
        "\n",
        "a = {1, 2, 3, 4}\n",
        "b = {4, 5, 6}\n",
        "\n",
        "# Set Union\n",
        "print(a | b)\n",
        "\n",
        "# Set Intersection\n",
        "print(a & b)\n",
        "\n",
        "# Set Difference\n",
        "print(a - b)\n",
        "\n",
        "# Symmetric Difference\n",
        "print(a ^ b)"
      ],
      "execution_count": null,
      "outputs": [
        {
          "output_type": "stream",
          "text": [
            "{1, 2, 3, 4, 5, 6}\n",
            "{4}\n",
            "{1, 2, 3}\n",
            "{1, 2, 3, 5, 6}\n"
          ],
          "name": "stdout"
        }
      ]
    },
    {
      "cell_type": "code",
      "metadata": {
        "id": "pIaIgS77VIzU",
        "outputId": "021b73e1-f9d7-4c30-ffd1-d7abc3ef43eb"
      },
      "source": [
        "# Adding and removing set elements\n",
        "a.add(7)\n",
        "print(a)\n",
        "\n",
        "a.remove(7)\n",
        "print(a)"
      ],
      "execution_count": null,
      "outputs": [
        {
          "output_type": "stream",
          "text": [
            "{1, 2, 3, 4, 7}\n",
            "{1, 2, 3, 4}\n"
          ],
          "name": "stdout"
        }
      ]
    },
    {
      "cell_type": "markdown",
      "metadata": {
        "id": "sea61EjDVIzW"
      },
      "source": [
        "### 3.4. Dictionary\n",
        "* Dictionary is an unordered collection of key-values pairs. \n",
        "* It is mutable. \n",
        "* It is created by enclosing the key-value parirs (key:value) with in curly brackets delimited by \",\""
      ]
    },
    {
      "cell_type": "code",
      "metadata": {
        "id": "zbjPiINuVIzX",
        "outputId": "0b429589-0501-46ad-91a9-278e7426c053"
      },
      "source": [
        "student = {\"name\":\"Gokul\", \"reg_no\":\"15IT026\", \"course\":\"BTech\"}\n",
        "\n",
        "print(student)"
      ],
      "execution_count": null,
      "outputs": [
        {
          "output_type": "stream",
          "text": [
            "{'name': 'Gokul', 'reg_no': '15IT026', 'course': 'BTech'}\n"
          ],
          "name": "stdout"
        }
      ]
    },
    {
      "cell_type": "code",
      "metadata": {
        "id": "M-Q35dNeVIzZ",
        "outputId": "9bd360bb-4890-4e11-834d-3f0f2b5f90c4"
      },
      "source": [
        "# Accessing elements\n",
        "print(student[\"course\"])\n",
        "\n",
        "for key, value in student.items():\n",
        "    print(\"Key: %s ; Value: %s\" % (key, value))"
      ],
      "execution_count": null,
      "outputs": [
        {
          "output_type": "stream",
          "text": [
            "BTech\n",
            "Key: name ; Value: Gokul\n",
            "Key: reg_no ; Value: 15IT026\n",
            "Key: course ; Value: BTech\n"
          ],
          "name": "stdout"
        }
      ]
    },
    {
      "cell_type": "markdown",
      "metadata": {
        "id": "2o30EzKhVIzb"
      },
      "source": [
        "### 3.5. String\n",
        "* A string is a sequence of charactes\n",
        "* It is immutable. \n",
        "* It is created by enclosing text with single/double/triple quotes"
      ]
    },
    {
      "cell_type": "code",
      "metadata": {
        "id": "TqaBTvSBVIzc",
        "outputId": "15af4879-6ced-4caa-ef3e-278ff45f4811"
      },
      "source": [
        "word = \"Malayalam\"\n",
        "print(word)"
      ],
      "execution_count": null,
      "outputs": [
        {
          "output_type": "stream",
          "text": [
            "Malayalam\n"
          ],
          "name": "stdout"
        }
      ]
    },
    {
      "cell_type": "code",
      "metadata": {
        "id": "97M0Dc8TVIzg",
        "outputId": "94056470-a9cf-44c1-9138-e2f9cfb2d831"
      },
      "source": [
        "# String operations\n",
        "\n",
        "print(word.lower())\n",
        "print(word.upper())\n",
        "print(len(word))\n",
        "print(word.startswith(\"A\"))\n",
        "print(word.endswith(\"m\"))"
      ],
      "execution_count": null,
      "outputs": [
        {
          "output_type": "stream",
          "text": [
            "malayalam\n",
            "MALAYALAM\n",
            "9\n",
            "False\n",
            "True\n"
          ],
          "name": "stdout"
        }
      ]
    },
    {
      "cell_type": "code",
      "metadata": {
        "id": "b-0OXquVVIzh",
        "outputId": "6aab5afc-3eb5-4e19-ab04-e592d2f5f7d4"
      },
      "source": [
        "# Slicing the string\n",
        "print(word[0:5])"
      ],
      "execution_count": null,
      "outputs": [
        {
          "output_type": "stream",
          "text": [
            "Malay\n"
          ],
          "name": "stdout"
        }
      ]
    },
    {
      "cell_type": "code",
      "metadata": {
        "id": "DGMaiBG_VIzj",
        "outputId": "dd455f0c-460a-456e-9b7a-ac81de3a947c"
      },
      "source": [
        "# Coverting string to a list of characters\n",
        "print(list(word))"
      ],
      "execution_count": null,
      "outputs": [
        {
          "output_type": "stream",
          "text": [
            "['M', 'a', 'l', 'a', 'y', 'a', 'l', 'a', 'm']\n"
          ],
          "name": "stdout"
        }
      ]
    },
    {
      "cell_type": "code",
      "metadata": {
        "id": "_NLKrTFbVIzl",
        "outputId": "b6b8a0ad-453c-4393-e9cc-9b754fe650cf"
      },
      "source": [
        "# splitting the text\n",
        "sentence = \"I love deep learning\"\n",
        "words = sentence.split(\" \")\n",
        "print(words)"
      ],
      "execution_count": null,
      "outputs": [
        {
          "output_type": "stream",
          "text": [
            "['I', 'love', 'deep', 'learning']\n"
          ],
          "name": "stdout"
        }
      ]
    },
    {
      "cell_type": "code",
      "metadata": {
        "id": "So4iVRWPVIzm",
        "outputId": "c57fd4a7-d8a7-4b61-ad98-35270c501c68"
      },
      "source": [
        "# finding length of a list\n",
        "print(len(words))"
      ],
      "execution_count": null,
      "outputs": [
        {
          "output_type": "stream",
          "text": [
            "4\n"
          ],
          "name": "stdout"
        }
      ]
    },
    {
      "cell_type": "markdown",
      "metadata": {
        "id": "JWkPj6obVIzp"
      },
      "source": [
        "## 4. Control Structures\n",
        "\n",
        "<b>'if...else' syntax:</b>\n",
        "    \n",
        "    if CONDITION:\n",
        "        code block 1\n",
        "    elif CONDITION:\n",
        "        code block 2\n",
        "    ...\n",
        "    else:\n",
        "        code block n"
      ]
    },
    {
      "cell_type": "code",
      "metadata": {
        "id": "MSNzOGz8VIzp"
      },
      "source": [
        "a = 3\n",
        "b = 5\n",
        "\n",
        "if a > b:\n",
        "    print(\"a is greater than b\")"
      ],
      "execution_count": null,
      "outputs": []
    },
    {
      "cell_type": "code",
      "metadata": {
        "id": "pCf53Zu1VIzr",
        "outputId": "726fb4db-f4a8-44ee-feef-1316d0e953ba",
        "colab": {
          "base_uri": "https://localhost:8080/",
          "height": 34
        }
      },
      "source": [
        "if a > b:\n",
        "    print(\"a is greater than b\")\n",
        "else:\n",
        "    print(\"b is greater than a\")"
      ],
      "execution_count": null,
      "outputs": [
        {
          "output_type": "stream",
          "text": [
            "b is greater than a\n"
          ],
          "name": "stdout"
        }
      ]
    },
    {
      "cell_type": "code",
      "metadata": {
        "id": "71Ujpor0VIzs",
        "outputId": "392e9678-b74d-43ee-e4c2-6bb9e1e0ed72",
        "colab": {
          "base_uri": "https://localhost:8080/",
          "height": 34
        }
      },
      "source": [
        "score = 80\n",
        "grade = None\n",
        "\n",
        "if score > 90:\n",
        "    grade = \"A\"\n",
        "elif score > 80:    \n",
        "    grade = \"B\"\n",
        "elif score > 70:    \n",
        "    grade = \"C\"\n",
        "elif score > 60:    \n",
        "    grade = \"D\"\n",
        "elif score > 50:    \n",
        "    grade = \"E\"\n",
        "else:\n",
        "    grade = \"F\"\n",
        "    \n",
        "print(\"Grade: \" + grade)"
      ],
      "execution_count": null,
      "outputs": [
        {
          "output_type": "stream",
          "text": [
            "Grade: C\n"
          ],
          "name": "stdout"
        }
      ]
    },
    {
      "cell_type": "markdown",
      "metadata": {
        "id": "Sv1VRsAEVIzu"
      },
      "source": [
        "<b>'for' syntax:</b>\n",
        "    \n",
        "    for ELEMENT in SEQUENCE:\n",
        "        code block"
      ]
    },
    {
      "cell_type": "code",
      "metadata": {
        "id": "GqT_RDXaVIzu",
        "outputId": "c426af6d-f4b5-43ca-b87f-0b9b55552ad7",
        "colab": {
          "base_uri": "https://localhost:8080/",
          "height": 118
        }
      },
      "source": [
        "ofl_team = [\"mitesh\", \"pratyush\", \"ananya\", \"rohith\", \"prem\", \"gokul\"]\n",
        "for person in ofl_team:\n",
        "    mail = person + \"@onefourthlabs.com\"\n",
        "    print(mail)"
      ],
      "execution_count": null,
      "outputs": [
        {
          "output_type": "stream",
          "text": [
            "mitesh@onefourthlabs.com\n",
            "pratyush@onefourthlabs.com\n",
            "ananya@onefourthlabs.com\n",
            "rohith@onefourthlabs.com\n",
            "prem@onefourthlabs.com\n",
            "gokul@onefourthlabs.com\n"
          ],
          "name": "stdout"
        }
      ]
    },
    {
      "cell_type": "code",
      "metadata": {
        "id": "YGCeOLY4VIzv",
        "outputId": "02cb4352-27eb-4753-fc39-6d69443d1a7d",
        "colab": {
          "base_uri": "https://localhost:8080/",
          "height": 118
        }
      },
      "source": [
        "for i in range(len(ofl_team)):\n",
        "    mail = ofl_team[i] + \"@onefourthlabs.com\"\n",
        "    print(mail)"
      ],
      "execution_count": null,
      "outputs": [
        {
          "output_type": "stream",
          "text": [
            "mitesh@onefourthlabs.com\n",
            "pratyush@onefourthlabs.com\n",
            "ananya@onefourthlabs.com\n",
            "rohith@onefourthlabs.com\n",
            "prem@onefourthlabs.com\n",
            "gokul@onefourthlabs.com\n"
          ],
          "name": "stdout"
        }
      ]
    },
    {
      "cell_type": "markdown",
      "metadata": {
        "id": "txKghyRjVIzx"
      },
      "source": [
        "<b>'while' syntax:</b>\n",
        "    \n",
        "    while CONDITION:\n",
        "        code block"
      ]
    },
    {
      "cell_type": "code",
      "metadata": {
        "id": "MGHMtdOCVIzx",
        "outputId": "7156e58d-ea26-4d0c-f927-c8ce35fad2c5",
        "colab": {
          "base_uri": "https://localhost:8080/",
          "height": 50
        }
      },
      "source": [
        "n = int(input(\"Enter a number: \"))\n",
        "\n",
        "n_factorial = 1\n",
        "x = 2\n",
        "while x <= n:\n",
        "    n_factorial = n_factorial * x\n",
        "    x = x+1\n",
        "    \n",
        "print(\"%d! = %d\" % (n, n_factorial))"
      ],
      "execution_count": null,
      "outputs": [
        {
          "output_type": "stream",
          "text": [
            "Enter a number: 5\n",
            "5! = 120\n"
          ],
          "name": "stdout"
        }
      ]
    },
    {
      "cell_type": "markdown",
      "metadata": {
        "id": "OI9sPX_qVIz0"
      },
      "source": [
        "## 5. Functions\n",
        "* A function is a block of code that can be reused. \n",
        "* It is defined using the 'def' keyword in python."
      ]
    },
    {
      "cell_type": "markdown",
      "metadata": {
        "id": "hdOaKOq0VIz0"
      },
      "source": [
        "<b>Function syntax:</b>\n",
        "\n",
        "    def function_name(parameters):\n",
        "        code...\n",
        "        return value"
      ]
    },
    {
      "cell_type": "code",
      "metadata": {
        "id": "nMvxLb5LVIz0"
      },
      "source": [
        "# Defining the function\n",
        "def area_of_square(length, breadth):\n",
        "    area = length*breadth\n",
        "    return area"
      ],
      "execution_count": null,
      "outputs": []
    },
    {
      "cell_type": "code",
      "metadata": {
        "id": "q7j4J8A_VIz2",
        "outputId": "1ed66c43-8123-4c44-cac6-eea3ea64916b",
        "colab": {
          "base_uri": "https://localhost:8080/",
          "height": 34
        }
      },
      "source": [
        "# Calling the function\n",
        "area_of_square(2, 3)"
      ],
      "execution_count": null,
      "outputs": [
        {
          "output_type": "execute_result",
          "data": {
            "text/plain": [
              "6"
            ]
          },
          "metadata": {
            "tags": []
          },
          "execution_count": 21
        }
      ]
    },
    {
      "cell_type": "code",
      "metadata": {
        "id": "6kQSiJEUVIz4",
        "outputId": "8c16f9ab-d7d3-4520-a53f-ecf76d706332",
        "colab": {
          "base_uri": "https://localhost:8080/"
        }
      },
      "source": [
        "# Function with default arguments\n",
        "def greet(name=\"\"):\n",
        "    print(\"Hello \" + name)\n",
        "\n",
        "greet(\"Shubham\")\n",
        "greet()"
      ],
      "execution_count": 1,
      "outputs": [
        {
          "output_type": "stream",
          "name": "stdout",
          "text": [
            "Hello Shubham\n",
            "Hello \n"
          ]
        }
      ]
    }
  ]
}